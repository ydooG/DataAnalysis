{
 "cells": [
  {
   "cell_type": "code",
   "execution_count": 24,
   "metadata": {},
   "outputs": [
    {
     "data": {
      "text/plain": [
       "13    449.50\n",
       "15     58.83\n",
       "17    320.67\n",
       "25    264.50\n",
       "28    191.90\n",
       "31    180.40\n",
       "37    219.30\n",
       "38    226.10\n",
       "39    168.40\n",
       "45    154.60\n",
       "48    143.90\n",
       "Name: value, dtype: float64"
      ]
     },
     "metadata": {},
     "output_type": "display_data"
    },
    {
     "data": {
      "text/plain": [
       "0     354.20\n",
       "1     312.50\n",
       "2     419.40\n",
       "3     332.70\n",
       "4     274.40\n",
       "5     396.60\n",
       "6     414.30\n",
       "7     270.90\n",
       "8     438.20\n",
       "9     325.10\n",
       "10    391.10\n",
       "11    144.60\n",
       "12    390.20\n",
       "14    346.50\n",
       "16    253.40\n",
       "18    316.68\n",
       "19    153.50\n",
       "20    372.30\n",
       "21    367.30\n",
       "22    433.90\n",
       "23    234.50\n",
       "24    179.70\n",
       "26    141.80\n",
       "27    141.80\n",
       "29    300.77\n",
       "30    348.63\n",
       "32    162.10\n",
       "33    205.60\n",
       "34    130.70\n",
       "35    130.70\n",
       "36    242.70\n",
       "40    238.40\n",
       "41    238.40\n",
       "42    105.03\n",
       "43    198.80\n",
       "44    132.00\n",
       "46    155.20\n",
       "47    155.20\n",
       "Name: value, dtype: float64"
      ]
     },
     "metadata": {},
     "output_type": "display_data"
    },
    {
     "name": "stdout",
     "output_type": "stream",
     "text": [
      "11 38\n"
     ]
    }
   ],
   "source": [
    "import pandas as pd\n",
    "\n",
    "path = r'C:\\Users\\Rasim\\Desktop\\Study\\terver lab\\lab2\\values.csv'\n",
    "data = pd.read_csv(path, header=None, names=['mark', 'value'])\n",
    "data.dropna()\n",
    "zeros = data[data[\"mark\"] == 0]['value']\n",
    "ones = data[data[\"mark\"] == 1]['value']\n",
    "display(zeros, ones)\n",
    "n = zeros.shape[0]\n",
    "m = ones.shape[0]\n",
    "print(n, m)\n",
    "\n",
    "def t1(mean, std, n, t):\n",
    "    return mean - std*t/((n)**1/2)\n",
    "\n",
    "\n",
    "def t2(mean, std, n, t):\n",
    "    return mean + std*t/((n)**1/2)"
   ]
  },
  {
   "cell_type": "code",
   "execution_count": 12,
   "metadata": {},
   "outputs": [
    {
     "name": "stdout",
     "output_type": "stream",
     "text": [
      "Zeros:\n",
      "   Varience: 9611.592444628099\n",
      "   Mean: 216.1909090909091\n",
      "   Std: 98.03872930953409\n",
      "   t1: 172.5\n",
      "   t2: 259.88\n",
      "\n",
      "Ones\n",
      "   Varience: 10552.127397299171\n",
      "   Mean: 267.1002631578948\n",
      "   Std: 102.72354840687295\n",
      "   t1: 256.16\n",
      "   t2: 278.04\n"
     ]
    }
   ],
   "source": [
    "print('Zeros:')\n",
    "print('   Varience:', zeros.var(ddof=0))\n",
    "print('   Mean:', zeros.mean())\n",
    "print('   Std:', zeros.std(ddof=0))\n",
    "print('   t1:', round(t1(zeros.mean(), zeros.std(ddof=0), 10, 2.228), 2))\n",
    "print('   t2:', round(t2(zeros.mean(), zeros.std(ddof=0), 10, 2.228), 2))\n",
    "print()\n",
    "print('Ones')\n",
    "print('   Varience:', ones.var(ddof=0))\n",
    "print('   Mean:', ones.mean())\n",
    "print('   Std:', ones.std(ddof=0))\n",
    "print('   t1:', round(t1(ones.mean(), ones.std(ddof=0), 38, 2.024), 2))\n",
    "print('   t2:', round(t2(ones.mean(), ones.std(ddof=0), 38, 2.024), 2))"
   ]
  },
  {
   "cell_type": "code",
   "execution_count": 33,
   "metadata": {},
   "outputs": [
    {
     "name": "stdout",
     "output_type": "stream",
     "text": [
      "58.83\n",
      "105.03\n",
      "\n",
      "Zeros:\n",
      "32531.54365874126\n",
      "5157.439848337029\n",
      "\n",
      "Ones:\n",
      "17510.080397265003\n",
      "7047.114957774491\n"
     ]
    }
   ],
   "source": [
    "print(zeros.describe()[\"min\"])\n",
    "print(ones.describe()[\"min\"])\n",
    "print()\n",
    "print('Zeros:')\n",
    "print(n * zeros.var(ddof=0) / 3.25)\n",
    "print(n * zeros.var(ddof=0) / 20.5)\n",
    "print()\n",
    "print('Ones:')\n",
    "print(m * ones.var(ddof=0) / 22.9)\n",
    "print(m * ones.var(ddof=0) / 56.9)"
   ]
  },
  {
   "cell_type": "code",
   "execution_count": 17,
   "metadata": {},
   "outputs": [
    {
     "name": "stdout",
     "output_type": "stream",
     "text": [
      "Zeros:\n",
      "207.45654957060515\n",
      "224.92526861121303\n",
      "\n",
      "Ones:\n",
      "264.45107690950704\n",
      "269.74944940628257\n"
     ]
    }
   ],
   "source": [
    "print('Zeros:')\n",
    "print(zeros.mean() - 1.96 * zeros.std(ddof=0) / n**1/2)\n",
    "print(zeros.mean() + 1.96 * zeros.std(ddof=0) / n**1/2)\n",
    "print()\n",
    "print('Ones:')\n",
    "print(ones.mean() - 1.96 * ones.std(ddof=0) / m**1/2)\n",
    "print(ones.mean() + 1.96 * ones.std(ddof=0) / m**1/2)\n"
   ]
  },
  {
   "cell_type": "code",
   "execution_count": 22,
   "metadata": {},
   "outputs": [
    {
     "name": "stdout",
     "output_type": "stream",
     "text": [
      "Zeros:\n",
      "105727.51689090909\n",
      "27677.360442646357\n",
      "4823.335624585268\n",
      "\n",
      "Ones:\n",
      "400980.8410973685\n",
      "16940.466459542393\n",
      "6901.563530075189\n"
     ]
    }
   ],
   "source": [
    "print('Zeros:')\n",
    "print(zeros.var(ddof=0)*n)\n",
    "print(zeros.var(ddof=0)*n / 3.82)\n",
    "print(zeros.var(ddof=0)*n / 21.92)\n",
    "print()\n",
    "print('Ones:')\n",
    "print(ones.var(ddof=0)*m)\n",
    "print(ones.var(ddof=0)*m / 23.67)\n",
    "print(ones.var(ddof=0)*m / 58.1)"
   ]
  },
  {
   "cell_type": "code",
   "execution_count": 37,
   "metadata": {},
   "outputs": [
    {
     "name": "stdout",
     "output_type": "stream",
     "text": [
      "Zeros:\n",
      "58.49454545454545\n",
      "58.82772727272727\n",
      "\n",
      "Ones:\n",
      "104.9328947368421\n",
      "105.02934210526315\n"
     ]
    }
   ],
   "source": [
    "print('Zeros:')\n",
    "print(58.83 - 3.69/n)\n",
    "print(58.83 - 0.025/n)\n",
    "print()\n",
    "print('Ones:')\n",
    "print(105.03 - 3.69/m)\n",
    "print(105.03 - 0.025/m)"
   ]
  },
  {
   "cell_type": "code",
   "execution_count": 73,
   "metadata": {},
   "outputs": [
    {
     "name": "stdout",
     "output_type": "stream",
     "text": [
      "Elem: 449.5\n",
      "Difference: 233.3090909090909\n",
      "Sum: 2962965848.5327697\n",
      "\n",
      "Elem: 58.83\n",
      "Difference: -157.3609090909091\n",
      "Sum: 3576145061.3183885\n",
      "\n",
      "Elem: 320.67\n",
      "Difference: 104.47909090909093\n",
      "Sum: 3695301507.037418\n",
      "\n",
      "Elem: 264.5\n",
      "Difference: 48.30909090909091\n",
      "Sum: 3700747981.349632\n",
      "\n",
      "Elem: 191.9\n",
      "Difference: -24.290909090909082\n",
      "Sum: 3701096138.3040276\n",
      "\n",
      "Elem: 180.4\n",
      "Difference: -35.79090909090908\n",
      "Sum: 3702737071.5667896\n",
      "\n",
      "Elem: 219.3\n",
      "Difference: 3.1090909090909236\n",
      "Sum: 3702737165.0069733\n",
      "\n",
      "Elem: 226.1\n",
      "Difference: 9.909090909090907\n",
      "Sum: 3702746806.299303\n",
      "\n",
      "Elem: 168.4\n",
      "Difference: -47.79090909090908\n",
      "Sum: 3707963329.7903924\n",
      "\n",
      "Elem: 154.6\n",
      "Difference: -61.59090909090909\n",
      "Sum: 3722353517.4510074\n",
      "\n",
      "Elem: 143.9\n",
      "Difference: -72.29090909090908\n",
      "Sum: 3749664337.7663164\n",
      "\n"
     ]
    }
   ],
   "source": [
    "sum = 0\n",
    "for i in range(n):\n",
    "    sum += (zeros.iloc[i] - zeros.mean())**4\n",
    "    print('Elem:', zeros.iloc[i])\n",
    "    print('Difference:', zeros.iloc[i] - zeros.mean())\n",
    "    print('Sum:', sum)\n",
    "    print()\n",
    "m4 = sum/n\n",
    "s2 = zeros.var(ddof=0)\n",
    "k = ((m4-s2*s2)/m)**1/2\n",
    "t1 = s2 - (1.96 * k)"
   ]
  },
  {
   "cell_type": "code",
   "execution_count": 79,
   "metadata": {},
   "outputs": [
    {
     "data": {
      "text/plain": [
       "1219.2144924734157"
      ]
     },
     "execution_count": 79,
     "metadata": {},
     "output_type": "execute_result"
    }
   ],
   "source": [
    "nx = zeros.mean()\n",
    "ny = ones.mean()\n",
    "t = 2.01\n",
    "varx = zeros.var(ddof=0)\n",
    "vary = ones.var(ddof=0)\n",
    "k = ((m+n)/(m*n*(m+n-2)) * (n * varx + m*vary))**1/2\n",
    "t = nx - ny + t*k \n",
    "t"
   ]
  },
  {
   "cell_type": "code",
   "execution_count": 80,
   "metadata": {},
   "outputs": [
    {
     "data": {
      "text/plain": [
       "(11, 38)"
      ]
     },
     "execution_count": 80,
     "metadata": {},
     "output_type": "execute_result"
    }
   ],
   "source": [
    "n(m-1))/ "
   ]
  }
 ],
 "metadata": {
  "kernelspec": {
   "display_name": "Python 3",
   "language": "python",
   "name": "python3"
  },
  "language_info": {
   "codemirror_mode": {
    "name": "ipython",
    "version": 3
   },
   "file_extension": ".py",
   "mimetype": "text/x-python",
   "name": "python",
   "nbconvert_exporter": "python",
   "pygments_lexer": "ipython3",
   "version": "3.7.4"
  },
  "toc": {
   "base_numbering": 1,
   "nav_menu": {},
   "number_sections": true,
   "sideBar": true,
   "skip_h1_title": false,
   "title_cell": "Table of Contents",
   "title_sidebar": "Contents",
   "toc_cell": false,
   "toc_position": {},
   "toc_section_display": true,
   "toc_window_display": false
  }
 },
 "nbformat": 4,
 "nbformat_minor": 2
}
