{
 "cells": [
  {
   "cell_type": "code",
   "execution_count": 79,
   "metadata": {},
   "outputs": [],
   "source": [
    "import numpy as np"
   ]
  },
  {
   "cell_type": "markdown",
   "metadata": {},
   "source": [
    "## Задание 1\n",
    "Установить, какие произведения матриц $AB$ и $BA$ определены, и найти размерности полученных матриц:<br>\n",
    "\n",
    "а) $A$ — матрица $4\\times 2$, $B$ — матрица $4\\times 2$\n",
    "\n",
    "б) $A$ — матрица $2\\times 5$, $B$ — матрица $5\\times 3$\n",
    "\n",
    "в) $A$ — матрица $8\\times 3$, $B$ — матрица $3\\times 8$\n",
    "\n",
    "г) $A$ — квадратная матрица $4\\times 4$, $B$ — квадратная матрица $4\\times 4$"
   ]
  },
  {
   "cell_type": "markdown",
   "metadata": {},
   "source": [
    "### а)"
   ]
  },
  {
   "cell_type": "code",
   "execution_count": 80,
   "metadata": {},
   "outputs": [
    {
     "name": "stdout",
     "output_type": "stream",
     "text": [
      "A:\n",
      " [[97 27]\n",
      " [47 73]\n",
      " [67 37]\n",
      " [ 4 97]] \n",
      "\n",
      " B:\n",
      " [[86 39]\n",
      " [93  5]\n",
      " [95 48]\n",
      " [61 78]] \n",
      "\n",
      "АB - не определено\n",
      "shapes (4,2) and (4,2) not aligned: 2 (dim 1) != 4 (dim 0)\n",
      "\n",
      "BA - не определено\n",
      "shapes (4,2) and (4,2) not aligned: 2 (dim 1) != 4 (dim 0)\n"
     ]
    }
   ],
   "source": [
    "a = np.random.randint(0, 100, (4, 2))\n",
    "b = np.random.randint(0, 100, (4, 2))\n",
    "print('A:\\n', a, '\\n\\n', 'B:\\n', b, '\\n')\n",
    "\n",
    "try:\n",
    "    c = a.dot(b)\n",
    "    print('АB - определено')\n",
    "    print(c)\n",
    "except ValueError as er:\n",
    "    print('АB - не определено')\n",
    "    print(er)\n",
    "    \n",
    "print()    \n",
    "try:\n",
    "    c = b.dot(a)\n",
    "    print('BA - определено')\n",
    "    print(c)\n",
    "except ValueError as er:\n",
    "    print('BA - не определено')\n",
    "    print(er)"
   ]
  },
  {
   "cell_type": "markdown",
   "metadata": {},
   "source": [
    "### б)"
   ]
  },
  {
   "cell_type": "code",
   "execution_count": 81,
   "metadata": {},
   "outputs": [
    {
     "name": "stdout",
     "output_type": "stream",
     "text": [
      "A:\n",
      " [[44 90 63 39 66]\n",
      " [35 50 87 59 60]] \n",
      "\n",
      " B:\n",
      " [[52 46 15]\n",
      " [88 95 64]\n",
      " [41 65 79]\n",
      " [71 82 50]\n",
      " [ 5  0 37]] \n",
      "\n",
      "АB - определено\n",
      "[[15890 17867 15789]\n",
      " [14276 16853 15768]]\n",
      "\n",
      "BA - не определено\n",
      "shapes (5,3) and (2,5) not aligned: 3 (dim 1) != 2 (dim 0)\n"
     ]
    }
   ],
   "source": [
    "a = np.random.randint(0, 100, (2, 5))\n",
    "b = np.random.randint(0, 100, (5, 3))\n",
    "print('A:\\n', a, '\\n\\n', 'B:\\n', b, '\\n')\n",
    "\n",
    "try:\n",
    "    c = a.dot(b)\n",
    "    print('АB - определено')\n",
    "    print(c)\n",
    "except ValueError as er:\n",
    "    print('АB - не определено')\n",
    "    print(er)\n",
    "    \n",
    "print()    \n",
    "try:\n",
    "    c = b.dot(a)\n",
    "    print('BA - определено')\n",
    "    print(c)\n",
    "except ValueError as er:\n",
    "    print('BA - не определено')\n",
    "    print(er)"
   ]
  },
  {
   "cell_type": "markdown",
   "metadata": {},
   "source": [
    "### в)"
   ]
  },
  {
   "cell_type": "code",
   "execution_count": 82,
   "metadata": {},
   "outputs": [
    {
     "name": "stdout",
     "output_type": "stream",
     "text": [
      "A:\n",
      " [[76 57 30]\n",
      " [96 20 18]\n",
      " [79 78  5]\n",
      " [34 51 72]\n",
      " [85 65 46]\n",
      " [80 94 77]\n",
      " [ 1 39 57]\n",
      " [35 30 86]] \n",
      "\n",
      " B:\n",
      " [[96  0 72 47 54 75 95 29]\n",
      " [38 63 11 16 32 18 25 80]\n",
      " [36 38 50 42 81 53 36 72]] \n",
      "\n",
      "АB - определено\n",
      "[[10542  4731  7599  5744  8358  8316  9725  8924]\n",
      " [10624  1944  8032  5588  7282  8514 10268  5680]\n",
      " [10728  5104  6796  5171  7167  7594  9635  8891]\n",
      " [ 7794  5949  6609  5438  9300  7284  7097 10250]\n",
      " [12286  5843  9135  6967 10396  9983 11356 10977]\n",
      " [14024  8848 10644  8498 13565 11773 12722 15384]\n",
      " [ 3630  4623  3351  3065  5919  3798  3122  7253]\n",
      " [ 7596  5158  7150  5737  9816  7723  7171  9607]]\n",
      "\n",
      "BA - определено\n",
      "[[26282 28620 22792]\n",
      " [17334 12247 14644]\n",
      " [25443 22665 21089]]\n"
     ]
    }
   ],
   "source": [
    "a = np.random.randint(0, 100, (8, 3))\n",
    "b = np.random.randint(0, 100, (3, 8))\n",
    "print('A:\\n', a, '\\n\\n', 'B:\\n', b, '\\n')\n",
    "\n",
    "try:\n",
    "    c = a.dot(b)\n",
    "    print('АB - определено')\n",
    "    print(c)\n",
    "except ValueError as er:\n",
    "    print('АB - не определено')\n",
    "    print(er)\n",
    "    \n",
    "print()    \n",
    "try:\n",
    "    c = b.dot(a)\n",
    "    print('BA - определено')\n",
    "    print(c)\n",
    "except ValueError as er:\n",
    "    print('BA - не определено')\n",
    "    print(er)"
   ]
  },
  {
   "cell_type": "markdown",
   "metadata": {},
   "source": [
    "### г)"
   ]
  },
  {
   "cell_type": "code",
   "execution_count": 83,
   "metadata": {},
   "outputs": [
    {
     "name": "stdout",
     "output_type": "stream",
     "text": [
      "A:\n",
      " [[67 37 80 47]\n",
      " [58 30 42 40]\n",
      " [31  6 58 25]\n",
      " [99 60 51 53]] \n",
      "\n",
      " B:\n",
      " [[87 72 16  2]\n",
      " [85 71 68 20]\n",
      " [51 59 53 79]\n",
      " [ 5 51 63 57]] \n",
      "\n",
      "АB - определено\n",
      "[[13289 14568 10789  9873]\n",
      " [ 9938 10824  7714  6314]\n",
      " [ 6290  7355  5553  6189]\n",
      " [16579 17100 11706  8448]]\n",
      "\n",
      "BA - определено\n",
      "[[10699  5595 11014  7475]\n",
      " [13901  6883 14746  9595]\n",
      " [16303  8715 13661 10269]\n",
      " [10889  5513  9103  6871]]\n"
     ]
    }
   ],
   "source": [
    "a = np.random.randint(0, 100, (4, 4))\n",
    "b = np.random.randint(0, 100, (4, 4))\n",
    "print('A:\\n', a, '\\n\\n', 'B:\\n', b, '\\n')\n",
    "\n",
    "try:\n",
    "    c = a.dot(b)\n",
    "    print('АB - определено')\n",
    "    print(c)\n",
    "except ValueError as er:\n",
    "    print('АB - не определено')\n",
    "    print(er)\n",
    "    \n",
    "print()    \n",
    "try:\n",
    "    c = b.dot(a)\n",
    "    print('BA - определено')\n",
    "    print(c)\n",
    "except ValueError as er:\n",
    "    print('BA - не определено')\n",
    "    print(er)"
   ]
  },
  {
   "cell_type": "markdown",
   "metadata": {},
   "source": [
    "## Задание 2\n",
    "Найти сумму и произведение матриц $A=\\begin{pmatrix}\n",
    "1 & -2\\\\ \n",
    "3 & 0\n",
    "\\end{pmatrix}$ и $B=\\begin{pmatrix}\n",
    "4 & -1\\\\ \n",
    "0 & 5\n",
    "\\end{pmatrix}.$"
   ]
  },
  {
   "cell_type": "code",
   "execution_count": 84,
   "metadata": {},
   "outputs": [
    {
     "name": "stdout",
     "output_type": "stream",
     "text": [
      "A:\n",
      " [[ 1 -2]\n",
      " [ 3  0]] \n",
      "\n",
      " B:\n",
      " [[ 4 -1]\n",
      " [ 0  5]] \n",
      "\n",
      "A + B =\n",
      " [[ 5 -3]\n",
      " [ 3  5]]\n",
      "\n",
      "AB =\n",
      " [[  4 -11]\n",
      " [ 12  -3]]\n",
      "\n",
      "BA =\n",
      " [[ 1 -8]\n",
      " [15  0]]\n"
     ]
    }
   ],
   "source": [
    "a = np.array([[1, -2], [3, 0]])\n",
    "b = np.array([[4, -1], [0, 5]])\n",
    "print('A:\\n', a, '\\n\\n', 'B:\\n', b, '\\n')\n",
    "print('A + B =\\n', a+b)\n",
    "print()\n",
    "print('AB =\\n', a.dot(b))\n",
    "print()\n",
    "print('BA =\\n', b.dot(a))"
   ]
  },
  {
   "cell_type": "markdown",
   "metadata": {},
   "source": [
    "## Задание 3\n",
    "Из закономерностей сложения и умножения матриц на число можно сделать вывод, что матрицы одного размера образуют линейное пространство. Вычислить линейную комбинацию $3A-2B+4C$ для матриц $A=\\begin{pmatrix}\n",
    "1 & 7\\\\ \n",
    "3 & -6\n",
    "\\end{pmatrix}$, $B=\\begin{pmatrix}\n",
    "0 & 5\\\\ \n",
    "2 & -1\n",
    "\\end{pmatrix}$, $C=\\begin{pmatrix}\n",
    "2 & -4\\\\ \n",
    "1 & 1\n",
    "\\end{pmatrix}.$"
   ]
  },
  {
   "cell_type": "code",
   "execution_count": 85,
   "metadata": {},
   "outputs": [
    {
     "name": "stdout",
     "output_type": "stream",
     "text": [
      "A:\n",
      " [[ 1  7]\n",
      " [ 3 -6]] \n",
      "\n",
      " B:\n",
      " [[ 0  5]\n",
      " [ 2 -1]] \n",
      "\n",
      " C:\n",
      " [[ 2 -4]\n",
      " [ 1  1]] \n",
      "\n",
      "3A - 2B + 4C =\n",
      " [[ 11  -5]\n",
      " [  9 -12]]\n"
     ]
    }
   ],
   "source": [
    "a = np.array([[1, 7], [3, -6]])\n",
    "b = np.array([[0, 5], [2, -1]])\n",
    "c = np.array([[2, -4], [1, 1]])\n",
    "print('A:\\n', a, '\\n\\n', 'B:\\n', b, '\\n\\n', 'C:\\n', c, '\\n')\n",
    "print('3A - 2B + 4C =\\n', 3*a - 2*b + 4*c)"
   ]
  },
  {
   "cell_type": "markdown",
   "metadata": {},
   "source": [
    "## Задание 4\n",
    "Дана матрица $A=\\begin{pmatrix}\n",
    "4 & 1\\\\ \n",
    "5 & -2\\\\ \n",
    "2 & 3\n",
    "\\end{pmatrix}$.\n",
    "Вычислить $AA^{T}$ и $A^{T}A$."
   ]
  },
  {
   "cell_type": "code",
   "execution_count": 86,
   "metadata": {},
   "outputs": [
    {
     "name": "stdout",
     "output_type": "stream",
     "text": [
      "A:\n",
      " [[ 4  1]\n",
      " [ 5 -2]\n",
      " [ 2  3]] \n",
      "\n",
      "T:\n",
      " [[ 4  5  2]\n",
      " [ 1 -2  3]] \n",
      "\n",
      "AT =\n",
      " [[17 18 11]\n",
      " [18 29  4]\n",
      " [11  4 13]] \n",
      "\n",
      "TA =\n",
      " [[45  0]\n",
      " [ 0 14]]\n"
     ]
    }
   ],
   "source": [
    "a = np.array([[4, 1], [5, -2], [2, 3]])\n",
    "print('A:\\n', a, '\\n')\n",
    "print('T:\\n', a.T, '\\n')\n",
    "print('AT =\\n', a.dot(a.T), '\\n')\n",
    "print('TA =\\n', a.T.dot(a))"
   ]
  },
  {
   "cell_type": "markdown",
   "metadata": {},
   "source": [
    "## Задание 5\n",
    "Вычислить определитель:\n",
    "\n",
    "   a)\n",
    "\n",
    "$$\\begin{vmatrix}\n",
    "sinx & -cosx\\\\ \n",
    "cosx & sinx\n",
    "\\end{vmatrix};$$\n",
    "\n",
    "   б)\n",
    "    \n",
    "$$\\begin{vmatrix}\n",
    "4 & 2 & 3\\\\ \n",
    "0 & 5 & 1\\\\ \n",
    "0 & 0 & 9\n",
    "\\end{vmatrix};$$\n",
    "\n",
    "   в)\n",
    "\n",
    "$$\\begin{vmatrix}\n",
    "1 & 2 & 3\\\\ \n",
    "4 & 5 & 6\\\\ \n",
    "7 & 8 & 9\n",
    "\\end{vmatrix}.$$"
   ]
  },
  {
   "cell_type": "markdown",
   "metadata": {},
   "source": [
    "### а)\n",
    "$$\n",
    "\\begin{vmatrix}\n",
    "sinx & -cosx\\\\ \n",
    "cosx & sinx\n",
    "\\end{vmatrix} =\n",
    "a \\cdot d - b \\cdot c =\n",
    "sinx \\cdot sinx - (-cosx) \\cdot cosx =\n",
    "sin^2x + cos^2x = 1\n",
    "$$\n"
   ]
  },
  {
   "cell_type": "markdown",
   "metadata": {},
   "source": [
    "### б)"
   ]
  },
  {
   "cell_type": "code",
   "execution_count": 87,
   "metadata": {},
   "outputs": [
    {
     "name": "stdout",
     "output_type": "stream",
     "text": [
      "Определитель = 180.0\n"
     ]
    }
   ],
   "source": [
    "a = np.array([[4, 2, 3], [0, 5, 1], [0, 0, 9]])\n",
    "print('Определитель =', np.linalg.det(a))"
   ]
  },
  {
   "cell_type": "markdown",
   "metadata": {},
   "source": [
    "### в)"
   ]
  },
  {
   "cell_type": "code",
   "execution_count": 88,
   "metadata": {},
   "outputs": [
    {
     "name": "stdout",
     "output_type": "stream",
     "text": [
      "Определитель = -0.0\n",
      "Следовательно матрица вырожденная\n"
     ]
    }
   ],
   "source": [
    "a = np.array([[1, 2, 3], [4, 5, 6], [7, 8, 9]])\n",
    "print('Определитель =', round(np.linalg.det(a), 0))\n",
    "print('Следовательно матрица вырожденная')"
   ]
  },
  {
   "cell_type": "markdown",
   "metadata": {},
   "source": [
    "## Задание 6\n",
    "Доказать, что матрица\n",
    "\n",
    "$$\\begin{pmatrix}\n",
    "-2 & 7 & -3\\\\ \n",
    "4 & -14 & 6\\\\ \n",
    "-3 & 7 & 13\n",
    "\\end{pmatrix}$$\n",
    "   \n",
    "вырожденная."
   ]
  },
  {
   "cell_type": "code",
   "execution_count": 89,
   "metadata": {},
   "outputs": [
    {
     "name": "stdout",
     "output_type": "stream",
     "text": [
      "Определитель: 0.0\n",
      "Матрица вырожденная, так как ее определитель равен нулю\n"
     ]
    }
   ],
   "source": [
    "a = np.array([[-2, 7, -3], [4, -14, 6], [-3, 7, 13]])\n",
    "det = round(np.linalg.det(a), 0)\n",
    "if det == 0:\n",
    "    print('Определитель:', det)\n",
    "    print('Матрица вырожденная, так как ее определитель равен нулю')"
   ]
  },
  {
   "cell_type": "markdown",
   "metadata": {},
   "source": [
    "## Задание 7\n",
    "Найти ранг матрицы:\n",
    "\n",
    "$\\begin{pmatrix}\n",
    "1 & 2 & 3\\\\ \n",
    "1 & 1 & 1\\\\ \n",
    "2 & 3 & 4\n",
    "\\end{pmatrix}$"
   ]
  },
  {
   "cell_type": "code",
   "execution_count": 90,
   "metadata": {},
   "outputs": [
    {
     "name": "stdout",
     "output_type": "stream",
     "text": [
      "Ранг матрицы: 2\n"
     ]
    }
   ],
   "source": [
    "a = np.array([[1, 2, 3], [1, 1, 1], [2, 3, 4]])\n",
    "r = np.linalg.matrix_rank(a)\n",
    "print(f'Ранг матрицы: {r}')"
   ]
  }
 ],
 "metadata": {
  "kernelspec": {
   "display_name": "Python 3",
   "language": "python",
   "name": "python3"
  },
  "language_info": {
   "codemirror_mode": {
    "name": "ipython",
    "version": 3
   },
   "file_extension": ".py",
   "mimetype": "text/x-python",
   "name": "python",
   "nbconvert_exporter": "python",
   "pygments_lexer": "ipython3",
   "version": "3.7.7"
  },
  "toc": {
   "base_numbering": 1,
   "nav_menu": {},
   "number_sections": true,
   "sideBar": true,
   "skip_h1_title": false,
   "title_cell": "Table of Contents",
   "title_sidebar": "Contents",
   "toc_cell": false,
   "toc_position": {},
   "toc_section_display": true,
   "toc_window_display": false
  }
 },
 "nbformat": 4,
 "nbformat_minor": 4
}
