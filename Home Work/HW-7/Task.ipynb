{
 "cells": [
  {
   "cell_type": "markdown",
   "metadata": {},
   "source": [
    "## Задание 1\n",
    "#### Найдите производные функций:  \n",
    "\n",
    "$$f(x)=x^3+3\\sqrt{x}-e^x$$\n",
    "\n",
    "$$f(x)=\\frac{x^2-1}{x^2+1}$$\n",
    "\n",
    "$$\\sigma(x)=\\frac{1}{1+e^{-x}}$$\n",
    "\n",
    "$$L(y, \\hat{y}) = (y-\\hat{y})^2$$  \n",
    "В 4-ом пункте производную нужно брать по $\\hat{y}$."
   ]
  },
  {
   "cell_type": "markdown",
   "metadata": {},
   "source": [
    "### 1)\n",
    "$$f(x)=x^3+3\\sqrt{x}-e^x$$\n",
    "\n",
    "$$\n",
    "f(x)' =\n",
    "(x^3+3\\sqrt{x}-e^x)' =\n",
    "(x^3)' + (3\\sqrt{x})' - (e^x)'=\n",
    "3x^2 + \\frac{3}{2\\sqrt{x}} - e^x\n",
    "$$"
   ]
  },
  {
   "cell_type": "markdown",
   "metadata": {},
   "source": [
    "### 2)\n",
    "$$f(x)=\\frac{x^2-1}{x^2+1}$$\n",
    "\n",
    "$$\n",
    "f(x)' = \n",
    "(\\frac{x^2-1}{x^2+1})' =\n",
    "\\frac{(x^2-1)' \\cdot (x^2+1) - (x^2-1) \\cdot (x^2+1)'}{(x^2+1)^2} =\n",
    "\\frac{2x\\cdot(x^2+1) - (x^2-1)\\cdot2x}{(x^2+1)^2} =\n",
    "\\frac{4x}{(x^2+1)^2}\n",
    "$$"
   ]
  },
  {
   "cell_type": "markdown",
   "metadata": {},
   "source": [
    "### 3)\n",
    "$$\\sigma(x)=\\frac{1}{1+e^{-x}}$$\n",
    "\n",
    "$$\n",
    "\\sigma(x)' =\n",
    "(\\frac{1}{1+e^{-x}})' =\n",
    "\\frac{1'\\cdot(1+e^{-x}) - 1\\cdot(1+e^{-x})'}{(1+e^{-x})^2} =\n",
    "\\frac{-(1+e^{-x})'}{(1+e^{-x})^2} =\n",
    "\\frac{e^{-x}}{(1+e^{-x})^2}\n",
    "$$"
   ]
  },
  {
   "cell_type": "markdown",
   "metadata": {},
   "source": [
    "### 4)\n",
    "$$L(y, \\hat{y}) = (y-\\hat{y})^2$$\n",
    "\n",
    "$$\n",
    "L(y, \\hat{y})'_{\\hat{y}} = \n",
    "((y-\\hat{y})^2)'_{\\hat{y}} =\n",
    "2(y-\\hat{y})\\cdot(-1) =\n",
    "-2(y-\\hat{y}) =\n",
    "2\\hat{y} - 2y\n",
    "$$  "
   ]
  },
  {
   "cell_type": "markdown",
   "metadata": {},
   "source": [
    "## Задание 2\n",
    "#### Напишите формулу и код для градиентного спуска для функции:  \n",
    "$$f(w, x) = \\frac{1}{1 + e^{-wx}}$$  "
   ]
  },
  {
   "cell_type": "markdown",
   "metadata": {},
   "source": [
    "### Решение\n",
    "Найдём частные производные по $w$ и $x$:\n",
    "$$f(w, x) = \\frac{1}{1 + e^{-wx}}$$\n",
    "<hr>\n",
    "$$\n",
    "f'_w = \\frac{-(1+e^{-wx})'_w}{(1+e^{-wx})^2}\n",
    "$$\n",
    "\n",
    "$$\n",
    "(1+e^{-wx})'_w =\n",
    "-x \\cdot e^{-wx}\n",
    "$$\n",
    "\n",
    "$$\n",
    "f'_w = \\frac{x \\cdot e^{-wx}}{(1+e^{-wx})^2}\n",
    "$$\n",
    "<hr>\n",
    "$$\n",
    "f'_x = \\frac{-(1+e^{-wx})'_x}{(1+e^{-wx})^2}\n",
    "$$\n",
    "\n",
    "$$\n",
    "(1+e^{-wx})'_x =\n",
    "-w \\cdot e^{-wx}\n",
    "$$\n",
    "\n",
    "$$\n",
    "f'_x = \\frac{w \\cdot e^{-wx}}{(1+e^{-wx})^2}\n",
    "$$"
   ]
  },
  {
   "cell_type": "markdown",
   "metadata": {},
   "source": [
    "Получаем следующий градиент:\n",
    "$$\n",
    "grad(f) = \\nabla f(\\overline{x}) = (f'_w, f'_x) = \\left(\\frac{x \\cdot e^{-wx}}{(1+e^{-wx})^2},\\frac{w \\cdot e^{-wx}}{(1+e^{-wx})^2}\\right)\n",
    "$$"
   ]
  },
  {
   "cell_type": "markdown",
   "metadata": {},
   "source": [
    "\n",
    "$$\n",
    "(w^i, x^i) = (w^{i-1}, x^{i-1}) - \\alpha \\left(\\frac{x \\cdot e^{-wx}}{(1+e^{-wx})^2},\\frac{w \\cdot e^{-wx}}{(1+e^{-wx})^2}\\right)\n",
    "$$"
   ]
  },
  {
   "cell_type": "code",
   "execution_count": 14,
   "metadata": {},
   "outputs": [],
   "source": [
    "import numpy as np\n",
    "import math\n",
    "def f(x):\n",
    "    return 1/(1 + math.exp(-x[0] * x[1]))\n",
    "\n",
    "\n",
    "def grad_w(x_prev):\n",
    "    return (x_prev[1] * math.exp(-x_prev[0] * x_prev[1])) / ((1 + math.exp(-x_prev[0] * x_prev[1]))**2)\n",
    "\n",
    "def grad_x(x_prev):\n",
    "    return (x_prev[0] * math.exp(-x_prev[0] * x_prev[1])) / ((1 + math.exp(-x_prev[0] * x_prev[1]))**2)\n",
    "\n",
    "\n",
    "def gradient_descent(alpha=0.01, eps=0.001):\n",
    "    x_prev = np.array([100, 100])\n",
    "    x = np.array([50, 50])\n",
    "    for i in range(100000):\n",
    "        if np.sum((x-x_prev)**2) < eps**2:\n",
    "            break\n",
    "        x_prev = x\n",
    "        x = x_prev - alpha * np.array(grad_w(x_prev), grad_x(x_prev))\n",
    "        print(x)\n",
    "    return x"
   ]
  },
  {
   "cell_type": "code",
   "execution_count": 15,
   "metadata": {},
   "outputs": [
    {
     "name": "stdout",
     "output_type": "stream",
     "text": [
      "[50. 50.]\n",
      "Точка минимума: [50. 50.]\n",
      "Минимальное значение: 1.0\n"
     ]
    }
   ],
   "source": [
    "x_min = gradient_descent()\n",
    "f_min = f(x_min)\n",
    "print('Точка минимума:', x_min)\n",
    "print('Минимальное значение:', f_min)"
   ]
  },
  {
   "cell_type": "markdown",
   "metadata": {},
   "source": [
    "## Вывод\n",
    "У функции нет глобальных экстремумов, соответственно и минимумов"
   ]
  }
 ],
 "metadata": {
  "kernelspec": {
   "display_name": "Python 3",
   "language": "python",
   "name": "python3"
  },
  "language_info": {
   "codemirror_mode": {
    "name": "ipython",
    "version": 3
   },
   "file_extension": ".py",
   "mimetype": "text/x-python",
   "name": "python",
   "nbconvert_exporter": "python",
   "pygments_lexer": "ipython3",
   "version": "3.7.7"
  },
  "toc": {
   "base_numbering": 1,
   "nav_menu": {},
   "number_sections": true,
   "sideBar": true,
   "skip_h1_title": false,
   "title_cell": "Table of Contents",
   "title_sidebar": "Contents",
   "toc_cell": false,
   "toc_position": {},
   "toc_section_display": true,
   "toc_window_display": false
  }
 },
 "nbformat": 4,
 "nbformat_minor": 4
}
