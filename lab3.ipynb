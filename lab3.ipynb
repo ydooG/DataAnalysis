{
 "cells": [
  {
   "cell_type": "code",
   "execution_count": 62,
   "metadata": {},
   "outputs": [
    {
     "data": {
      "text/plain": [
       "13    449.50\n",
       "15     58.83\n",
       "17    320.67\n",
       "25    264.50\n",
       "28    191.90\n",
       "31    180.40\n",
       "37    219.30\n",
       "38    226.10\n",
       "39    168.40\n",
       "45    154.60\n",
       "48    143.90\n",
       "Name: value, dtype: float64"
      ]
     },
     "metadata": {},
     "output_type": "display_data"
    },
    {
     "data": {
      "text/plain": [
       "0     354.20\n",
       "1     312.50\n",
       "2     419.40\n",
       "3     332.70\n",
       "4     274.40\n",
       "5     396.60\n",
       "6     414.30\n",
       "7     270.90\n",
       "8     438.20\n",
       "9     325.10\n",
       "10    391.10\n",
       "11    144.60\n",
       "12    390.20\n",
       "14    346.50\n",
       "16    253.40\n",
       "18    316.68\n",
       "19    153.50\n",
       "20    372.30\n",
       "21    367.30\n",
       "22    433.90\n",
       "23    234.50\n",
       "24    179.70\n",
       "26    141.80\n",
       "27    141.80\n",
       "29    300.77\n",
       "30    348.63\n",
       "32    162.10\n",
       "33    205.60\n",
       "34    130.70\n",
       "35    130.70\n",
       "36    242.70\n",
       "40    238.40\n",
       "41    238.40\n",
       "42    105.03\n",
       "43    198.80\n",
       "44    132.00\n",
       "46    155.20\n",
       "47    155.20\n",
       "Name: value, dtype: float64"
      ]
     },
     "metadata": {},
     "output_type": "display_data"
    },
    {
     "name": "stdout",
     "output_type": "stream",
     "text": [
      "11 38\n"
     ]
    }
   ],
   "source": [
    "import pandas as pd\n",
    "import matplotlib.pyplot as plt\n",
    "\n",
    "path = r'C:\\Users\\Rasim\\Desktop/\\lab3\\values.csv'\n",
    "data = pd.read_csv(path, header=None, names=['mark', 'value'])\n",
    "data.dropna()\n",
    "zeros = data[data[\"mark\"] == 0]['value']\n",
    "ones = data[data[\"mark\"] == 1]['value']\n",
    "display(zeros, ones)\n",
    "n = zeros.shape[0]\n",
    "m = ones.shape[0]\n",
    "print(n, m)"
   ]
  },
  {
   "cell_type": "code",
   "execution_count": 63,
   "metadata": {},
   "outputs": [
    {
     "data": {
      "image/png": "[encoded data removed]",
      "text/plain": [
       "<Figure size 432x288 with 1 Axes>"
      ]
     },
     "metadata": {
      "needs_background": "light"
     },
     "output_type": "display_data"
    },
    {
     "name": "stdout",
     "output_type": "stream",
     "text": [
      "[0.2727272727272727, 0.45454545454545453, 0.18181818181818182, 0.09090909090909091]\n"
     ]
    }
   ],
   "source": [
    "plt.hist(zeros, 4, facecolor='blue', alpha=0.5, histtype='bar')\n",
    "plt.show()\n",
    "h_zeros = [3, 5, 2, 1]\n",
    "h_p_zeros = [i/len(zeros) for i in h_zeros]\n",
    "print(h_p_zeros)"
   ]
  },
  {
   "cell_type": "code",
   "execution_count": 64,
   "metadata": {},
   "outputs": [
    {
     "data": {
      "image/png": "[encoded data removed]",
      "text/plain": [
       "<Figure size 432x288 with 1 Axes>"
      ]
     },
     "metadata": {
      "needs_background": "light"
     },
     "output_type": "display_data"
    },
    {
     "name": "stdout",
     "output_type": "stream",
     "text": [
      "[0.10526315789473684, 0.18421052631578946, 0.05263157894736842, 0.05263157894736842, 0.13157894736842105, 0.05263157894736842, 0.10526315789473684, 0.10526315789473684, 0.10526315789473684, 0.10526315789473684]\n"
     ]
    }
   ],
   "source": [
    "plt.hist(ones, 10, facecolor='blue', alpha=0.5, histtype='bar')\n",
    "plt.show()\n",
    "h_ones = [4, 7, 2, 2, 5, 2, 4, 4, 4, 4]\n",
    "h_p_ones = [i/len(ones) for i in h_ones]\n",
    "print(h_p_ones)"
   ]
  },
  {
   "cell_type": "code",
   "execution_count": 65,
   "metadata": {},
   "outputs": [
    {
     "name": "stdout",
     "output_type": "stream",
     "text": [
      "12.25\n",
      "78.40000000000002\n"
     ]
    }
   ],
   "source": [
    "def chi2(hist, n, p_items):\n",
    "    sum = 0\n",
    "    for i in range(len(hist)):\n",
    "        sum += (hist[i] - n*p_items[i])**2/(n*p_items[i])\n",
    "    return sum\n",
    "\n",
    "\n",
    "ch_zeros = chi2(h_zeros, len(h_zeros), h_p_zeros)\n",
    "ch_ones = chi2(h_ones, len(h_ones), h_p_ones)\n",
    "print(ch_zeros)\n",
    "print(ch_ones)\n"
   ]
  },
  {
   "cell_type": "code",
   "execution_count": 70,
   "metadata": {},
   "outputs": [
    {
     "name": "stdout",
     "output_type": "stream",
     "text": [
      "216.1909090909091\n",
      "267.1002631578948\n",
      "\n",
      "9611.592444628099\n",
      "10552.127397299171\n"
     ]
    }
   ],
   "source": [
    "avg_zeros = zeros.mean()\n",
    "avg_ones = ones.mean()\n",
    "dispersion_zeros = zeros.var(ddof=0)\n",
    "dispersion_ones = ones.var(ddof=0)\n",
    "print(avg_zeros)\n",
    "print(avg_ones)\n",
    "print()\n",
    "print(dispersion_zeros)\n",
    "print(dispersion_ones)"
   ]
  }
 ],
 "metadata": {
  "kernelspec": {
   "display_name": "Python 3",
   "language": "python",
   "name": "python3"
  },
  "language_info": {
   "codemirror_mode": {
    "name": "ipython",
    "version": 3
   },
   "file_extension": ".py",
   "mimetype": "text/x-python",
   "name": "python",
   "nbconvert_exporter": "python",
   "pygments_lexer": "ipython3",
   "version": "3.7.7"
  },
  "toc": {
   "base_numbering": 1,
   "nav_menu": {},
   "number_sections": true,
   "sideBar": true,
   "skip_h1_title": false,
   "title_cell": "Table of Contents",
   "title_sidebar": "Contents",
   "toc_cell": false,
   "toc_position": {},
   "toc_section_display": true,
   "toc_window_display": false
  }
 },
 "nbformat": 4,
 "nbformat_minor": 4
}
